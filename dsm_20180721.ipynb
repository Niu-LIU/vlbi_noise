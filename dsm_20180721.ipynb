{
 "cells": [
  {
   "cell_type": "code",
   "execution_count": 28,
   "metadata": {},
   "outputs": [],
   "source": [
    "#!/usr/bin/env python3\n",
    "# -*- coding: utf-8 -*-\n",
    "# File name: VLBI_internal_error2.py\n",
    "\"\"\"\n",
    "Created on Thu Jun 21 09:30:04 2018\n",
    "\n",
    "@author: Neo(liuniu@smail.nju.edu.cn)\n",
    "\"\"\"\n",
    "\n",
    "import matplotlib.pyplot as plt\n",
    "import numpy as np\n",
    "from numpy import cos, deg2rad, sqrt\n",
    "%matplotlib inline\n",
    "%config InlineBackend.figure_format = 'svg'\n",
    "# My modules\n",
    "from error_inflation_progs import (error_inflation, pos_offset_wrms_soubinned, wrms_calc)"
   ]
  },
  {
   "cell_type": "code",
   "execution_count": 29,
   "metadata": {},
   "outputs": [],
   "source": [
    "# Load data\n",
    "datfile = (\"../data/odd-even-b.cat_diff\")\n",
    "soulist = np.genfromtxt(datfile, usecols=(0,), dtype=str)\n",
    "RA, Dec, dRAc, dDec, dRAc_err, dDec_err = np.genfromtxt(\n",
    "    datfile, usecols=range(1, 7), unpack=True)\n",
    "num_ses_mean, num_obs_mean = np.genfromtxt(\n",
    "    datfile, dtype=int, usecols=range(7, 9), unpack=True)"
   ]
  },
  {
   "cell_type": "code",
   "execution_count": 30,
   "metadata": {},
   "outputs": [],
   "source": [
    "# scale the position offset by their uncertainty\n",
    "nor_dRAc = dRAc / dRAc_err\n",
    "nor_dDec = dDec / dDec_err\n",
    "\n",
    "# Calculate the offset and normalized seperation\n",
    "rho = sqrt(dRAc**2 + dDec**2)\n",
    "nor_rho = sqrt(nor_dRAc**2 + nor_dDec**2)\n",
    "rho_err = sqrt(dRAc_err**2 + dDec_err**2)"
   ]
  },
  {
   "cell_type": "code",
   "execution_count": 31,
   "metadata": {},
   "outputs": [],
   "source": [
    "# Sort the data according to the number of sessions/observations\n",
    "ind = np.argsort(num_ses_mean)\n",
    "num_ses_sort = np.take(num_ses_mean, ind)\n",
    "num_obs_sort = np.take(num_obs_mean, ind)\n",
    "dRAc_sort = np.take(dRAc, ind)\n",
    "dDec_sort = np.take(dDec, ind)\n",
    "dRAc_err_sort = np.take(dRAc_err, ind)\n",
    "dDec_err_sort = np.take(dDec_err, ind)\n",
    "\n",
    "# Calculate the positional offset scatter\n",
    "dRAc_wrms, dRAc_err_med, ses_min_RA = pos_offset_wrms_soubinned(\n",
    "    num_ses_sort, dRAc_sort, dRAc_err_sort, interv_size=50)\n",
    "dDec_wrms, dDec_err_med, ses_min_Dec = pos_offset_wrms_soubinned(\n",
    "    num_ses_sort, dDec_sort, dDec_err_sort, interv_size=50)"
   ]
  },
  {
   "cell_type": "code",
   "execution_count": 32,
   "metadata": {},
   "outputs": [
    {
     "name": "stdout",
     "output_type": "stream",
     "text": [
      "If we choose all 2380 sources.\n",
      "For all sources:\n",
      "     scale factors of RA and Dec. are 1.305 and 1.247.\n",
      "     mean values are -0.020 and 0.028\n",
      "For all sources:\n",
      "     noise floors of RA and Dec. are 0.033 and 0.040 mas.\n",
      "     means are 0.048 and -0.131 mas.\n"
     ]
    }
   ],
   "source": [
    "# If we use all sources\n",
    "print(\"If we choose all %d sources.\" % nor_dRAc.size)\n",
    "\n",
    "# Calculate their standard deviation (scale factor)\n",
    "sf_ra = np.std(nor_dRAc)\n",
    "m_ra = np.mean(nor_dRAc)\n",
    "sf_dec = np.std(nor_dDec)\n",
    "m_dec = np.mean(nor_dDec)\n",
    "\n",
    "print(\"For all sources:\\n\"\n",
    "      \"     scale factors of RA and Dec. are %.3f and %.3f.\" % (sf_ra, sf_dec))\n",
    "print(\"     mean values are %.3f and %.3f\" % (m_ra, m_dec))\n",
    "\n",
    "# Noise floor for post-elimination sources\n",
    "nf_ra = wrms_calc(dRAc, dRAc_err) / sqrt(2)\n",
    "nf_dec = wrms_calc(dDec, dDec_err) / sqrt(2)\n",
    "\n",
    "print(\"For all sources:\\n\"\n",
    "      \"     noise floors of RA and Dec. are %.3f and %.3f mas.\" % (nf_ra, nf_dec))\n",
    "print(\"     means are %.3f and %.3f mas.\" % (np.mean(dRAc), np.mean(dDec)))\n",
    "\n",
    "# Inflated error\n",
    "dRAc_err_inf = error_inflation(dRAc_err_med, sf_ra, nf_ra)\n",
    "dDec_err_inf = error_inflation(dDec_err_med, sf_dec, nf_dec)"
   ]
  },
  {
   "cell_type": "code",
   "execution_count": 33,
   "metadata": {},
   "outputs": [
    {
     "name": "stdout",
     "output_type": "stream",
     "text": [
      "If we choose 'offset <= 1 mas' as the criteria, there will be 1756 sources.\n",
      "For sources (offset < 1 mas and normalized offset < 5):\n",
      "             scale factors of RA and Dec. are 1.342 and 1.274.\n",
      "             mean values are -0.036 and 0.047\n",
      "For sources (offset < 1 mas and normalized offset < 5):\n",
      "             noise floors of RA and Dec. are 0.029 and 0.035 mas.\n",
      "             means are -0.008 and 0.014 mas.\n"
     ]
    }
   ],
   "source": [
    "# If we use a criteria \"offset <= 1 mas\" and \"normalized seperation < 5\"\n",
    "# con = (rho <= 1.) & (nor_rho <= 5.)\n",
    "con = (rho_err <= 1.) & (rho/rho_err <= 3.97)\n",
    "\n",
    "print(\"If we choose 'offset <= 1 mas' as the criteria, there will be %d sources.\" % nor_dRAc[con].size)\n",
    "\n",
    "# Calculate their standard deviation (scale factor)\n",
    "sf_ra_elim1 = np.std(nor_dRAc[con])\n",
    "m_ra_elim1 = np.mean(nor_dRAc[con])\n",
    "sf_dec_elim1 = np.std(nor_dDec[con])\n",
    "m_dec_elim1 = np.mean(nor_dDec[con])\n",
    "\n",
    "print(\"For sources (offset < 1 mas and normalized offset < 5):\\n\"\n",
    "      \"             scale factors of RA and Dec. are %.3f and %.3f.\" % (sf_ra_elim1, sf_dec_elim1))\n",
    "print(\"             mean values are %.3f and %.3f\" % (m_ra_elim1, m_dec_elim1))\n",
    "\n",
    "# Noise floor for post-elimination sources\n",
    "nf_ra_elim1 = wrms_calc(dRAc[con], dRAc_err[con]) / sqrt(2)\n",
    "nf_dec_elim1 = wrms_calc(dDec[con], dDec_err[con]) / sqrt(2)\n",
    "\n",
    "print(\"For sources (offset < 1 mas and normalized offset < 5):\\n\"\n",
    "      \"             noise floors of RA and Dec. are %.3f and %.3f mas.\" % (nf_ra_elim1, nf_dec_elim1))\n",
    "print(\"             means are %.3f and %.3f mas.\" % (np.mean(dRAc[con]), np.mean(dDec[con])))\n",
    "\n",
    "# Inflated error\n",
    "dRAc_err_inf_elim1 = error_inflation(dRAc_err_med, sf_ra_elim1, nf_ra_elim1)\n",
    "dDec_err_inf_elim1 = error_inflation(dDec_err_med, sf_dec_elim1, nf_dec_elim1)"
   ]
  },
  {
   "cell_type": "code",
   "execution_count": 34,
   "metadata": {},
   "outputs": [
    {
     "name": "stdout",
     "output_type": "stream",
     "text": [
      "If we choose 'offset <= 0.5 mas' as the criteria, there will be 1287 sources.\n",
      "For sources (offset < 0.5 mas and normalized offset < 5):\n",
      "             scale factors of RA and Dec. are 1.217 and 1.073.\n",
      "             mean values are -0.020 and 0.032\n",
      "For sources (offset < 0.5 mas and normalized offset < 5):\n",
      "             noise floors of RA and Dec. are 0.023 and 0.025 mas.\n",
      "             means are -0.004 and 0.001 mas.\n"
     ]
    }
   ],
   "source": [
    "# If we use a criteria \"offset <= 0.5 mas\"\n",
    "# con = (rho <= 0.5) & (nor_rho <= 5.)\n",
    "con = (rho <= 0.5) & (rho/rho_err <= 5.)\n",
    "\n",
    "print(\"If we choose 'offset <= 0.5 mas' as the criteria, there will be %d sources.\" % nor_dRAc[con].size)\n",
    "\n",
    "# Calculate their standard deviation (scale factor)\n",
    "sf_ra_elim2 = np.std(nor_dRAc[con])\n",
    "m_ra_elim2 = np.mean(nor_dRAc[con])\n",
    "\n",
    "sf_dec_elim2 = np.std(nor_dDec[con])\n",
    "m_dec_elim2 = np.mean(nor_dDec[con])\n",
    "\n",
    "print(\"For sources (offset < 0.5 mas and normalized offset < 5):\\n\"\n",
    "      \"             scale factors of RA and Dec. are %.3f and %.3f.\" % (sf_ra_elim2, sf_dec_elim2))\n",
    "print(\"             mean values are %.3f and %.3f\" % (m_ra_elim2, m_dec_elim2))\n",
    "\n",
    "# Noise floor for post-elimination sources\n",
    "nf_ra_elim2 = wrms_calc(dRAc[con], dRAc_err[con]) / sqrt(2)\n",
    "nf_dec_elim2 = wrms_calc(dDec[con], dDec_err[con]) / sqrt(2)\n",
    "\n",
    "print(\"For sources (offset < 0.5 mas and normalized offset < 5):\\n\"\n",
    "      \"             noise floors of RA and Dec. are %.3f and %.3f mas.\" % (nf_ra_elim2, nf_dec_elim2))\n",
    "print(\"             means are %.3f and %.3f mas.\" % (np.mean(dRAc[con]), np.mean(dDec[con])))\n",
    "\n",
    "# Inflated error\n",
    "dRAc_err_inf_elim2 = error_inflation(dRAc_err_med, sf_ra_elim2, nf_ra_elim2)\n",
    "dDec_err_inf_elim2 = error_inflation(dDec_err_med, sf_dec_elim2, nf_dec_elim2)"
   ]
  },
  {
   "cell_type": "code",
   "execution_count": 35,
   "metadata": {},
   "outputs": [
    {
     "name": "stdout",
     "output_type": "stream",
     "text": [
      "If we choose 'offset <= 0.1 mas' as the criteria, there will be 444 sources.\n",
      "For sources (offset < 0.1 mas and normalized offset < 5):\n",
      "             scale factors of RA and Dec. are 1.194 and 1.135.\n",
      "             mean values are -0.030 and 0.169\n",
      "For sources (offset < 0.5 mas and normalized offset < 5):\n",
      "             noise floors of RA and Dec. are 0.013 and 0.016 mas.\n",
      "             means are -0.001 and 0.004 mas.\n"
     ]
    }
   ],
   "source": [
    "# If we use a criteria \"offset <= 0.1 mas\"\n",
    "# con = (rho <= 0.1) & (nor_rho <= 5.)\n",
    "con = (rho <= 0.1) & (rho/rho_err <= 5.)\n",
    "\n",
    "print(\"If we choose 'offset <= 0.1 mas' as the criteria, there will be %d sources.\" % nor_dRAc[con].size)\n",
    "\n",
    "# Calculate their standard deviation (scale factor)\n",
    "sf_ra_elim3 = np.std(nor_dRAc[con])\n",
    "m_ra_elim3 = np.mean(nor_dRAc[con])\n",
    "\n",
    "sf_dec_elim3 = np.std(nor_dDec[con])\n",
    "m_dec_elim3 = np.mean(nor_dDec[con])\n",
    "\n",
    "print(\"For sources (offset < 0.1 mas and normalized offset < 5):\\n\"\n",
    "      \"             scale factors of RA and Dec. are %.3f and %.3f.\" % (sf_ra_elim3, sf_dec_elim3))\n",
    "print(\"             mean values are %.3f and %.3f\" % (m_ra_elim3, m_dec_elim3))\n",
    "\n",
    "# Noise floor for post-elimination sources\n",
    "nf_ra_elim3 = wrms_calc(dRAc[con], dRAc_err[con]) / np.sqrt(2)\n",
    "nf_dec_elim3 = wrms_calc(dDec[con], dDec_err[con]) / np.sqrt(2)\n",
    "\n",
    "print(\"For sources (offset < 0.5 mas and normalized offset < 5):\\n\"\n",
    "      \"             noise floors of RA and Dec. are %.3f and %.3f mas.\" % (nf_ra_elim3, nf_dec_elim3))\n",
    "print(\"             means are %.3f and %.3f mas.\" % (np.mean(dRAc[con]), np.mean(dDec[con])))\n",
    "\n",
    "# Inflated error\n",
    "dRAc_err_inf_elim3 = error_inflation(dRAc_err_med, sf_ra_elim3, nf_ra_elim3)\n",
    "dDec_err_inf_elim3 = error_inflation(dDec_err_med, sf_dec_elim3, nf_dec_elim3)"
   ]
  },
  {
   "cell_type": "code",
   "execution_count": 36,
   "metadata": {
    "scrolled": false
   },
   "outputs": [
    {
     "name": "stdout",
     "output_type": "stream",
     "text": [
      "For sources (normalized offset X < 3.97):\n",
      "             scale factors of RA and Dec. are 1.342 and 1.274.\n",
      "              noise floors of RA and Dec. are 0.029 and 0.035 mas.\n",
      "For sources (offset <= 0.5 mas and normalized offset < 5):\n",
      "             scale factors of RA and Dec. are 1.217 and 1.073.\n",
      "              noise floors of RA and Dec. are 0.023 and 0.025 mas.\n",
      "For sources (offset <= 0.1 mas and normalized offset < 5):\n",
      "             scale factors of RA and Dec. are 1.194 and 1.135.\n",
      "              noise floors of RA and Dec. are 0.013 and 0.016 mas.\n"
     ]
    }
   ],
   "source": [
    "# Summary\n",
    "# a criteria \"offset <= 1 mas\" and \"normalized seperation < 5\"\n",
    "# print(\"For sources (offset < 1 mas and normalized offset < 3.97):\\n\"\n",
    "print(\"For sources (normalized offset X < 3.97 and positional difference error < 1 mas):\\n\"\n",
    "      \"             scale factors of RA and Dec. are %.3f and %.3f.\\n\" % (sf_ra_elim1, sf_dec_elim1),\n",
    "      \"             noise floors of RA and Dec. are %.3f and %.3f mas.\" % (nf_ra_elim1, nf_dec_elim1))\n",
    "\n",
    "# a criteria \"offset <= 0.5 mas\" and \"normalized seperation < 5\"\n",
    "print(\"For sources (offset <= 0.5 mas and normalized offset < 5):\\n\"\n",
    "      \"             scale factors of RA and Dec. are %.3f and %.3f.\\n\" % (sf_ra_elim2, sf_dec_elim2),\n",
    "      \"             noise floors of RA and Dec. are %.3f and %.3f mas.\" % (nf_ra_elim2, nf_dec_elim2))\n",
    "\n",
    "# a criteria \"offset <= 0.1 mas\" and \"normalized seperation < 5\"\n",
    "print(\"For sources (offset <= 0.1 mas and normalized offset < 5):\\n\"\n",
    "      \"             scale factors of RA and Dec. are %.3f and %.3f.\\n\" % (sf_ra_elim3, sf_dec_elim3),\n",
    "      \"             noise floors of RA and Dec. are %.3f and %.3f mas.\" % (nf_ra_elim3, nf_dec_elim3))"
   ]
  }
 ],
 "metadata": {
  "hide_input": false,
  "kernelspec": {
   "display_name": "Python 3",
   "language": "python",
   "name": "python3"
  },
  "language_info": {
   "codemirror_mode": {
    "name": "ipython",
    "version": 3
   },
   "file_extension": ".py",
   "mimetype": "text/x-python",
   "name": "python",
   "nbconvert_exporter": "python",
   "pygments_lexer": "ipython3",
   "version": "3.5.5"
  }
 },
 "nbformat": 4,
 "nbformat_minor": 2
}
